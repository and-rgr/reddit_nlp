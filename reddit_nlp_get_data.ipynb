{
  "nbformat": 4,
  "nbformat_minor": 0,
  "metadata": {
    "colab": {
      "name": "reddit nlp - get data.ipynb",
      "provenance": [],
      "collapsed_sections": [],
      "authorship_tag": "ABX9TyPpiXLkloRvPZCqO6qyOSvV"
    },
    "kernelspec": {
      "name": "python3",
      "display_name": "Python 3"
    },
    "language_info": {
      "name": "python"
    }
  },
  "cells": [
    {
      "cell_type": "code",
      "source": [
        "### LIBRARIES AND FUNCTIONS ###"
      ],
      "metadata": {
        "id": "INFlmF4WQN8g"
      },
      "execution_count": null,
      "outputs": []
    },
    {
      "cell_type": "code",
      "source": [
        "!pip install \"numpy==1.21.6\"\n",
        "!pip install \"pandas==1.3.5\"\n",
        "!pip install \"praw==7.6.0\""
      ],
      "metadata": {
        "id": "9NgGU3QVyfVN",
        "colab": {
          "base_uri": "https://localhost:8080/"
        },
        "outputId": "e55eb825-6f94-4f37-f56f-29310f61b88c"
      },
      "execution_count": null,
      "outputs": [
        {
          "output_type": "stream",
          "name": "stdout",
          "text": [
            "Looking in indexes: https://pypi.org/simple, https://us-python.pkg.dev/colab-wheels/public/simple/\n",
            "Requirement already satisfied: numpy==1.21.6 in /usr/local/lib/python3.7/dist-packages (1.21.6)\n",
            "Looking in indexes: https://pypi.org/simple, https://us-python.pkg.dev/colab-wheels/public/simple/\n",
            "Requirement already satisfied: pandas==1.3.5 in /usr/local/lib/python3.7/dist-packages (1.3.5)\n",
            "Requirement already satisfied: numpy>=1.17.3 in /usr/local/lib/python3.7/dist-packages (from pandas==1.3.5) (1.21.6)\n",
            "Requirement already satisfied: pytz>=2017.3 in /usr/local/lib/python3.7/dist-packages (from pandas==1.3.5) (2022.1)\n",
            "Requirement already satisfied: python-dateutil>=2.7.3 in /usr/local/lib/python3.7/dist-packages (from pandas==1.3.5) (2.8.2)\n",
            "Requirement already satisfied: six>=1.5 in /usr/local/lib/python3.7/dist-packages (from python-dateutil>=2.7.3->pandas==1.3.5) (1.15.0)\n",
            "Looking in indexes: https://pypi.org/simple, https://us-python.pkg.dev/colab-wheels/public/simple/\n",
            "Collecting praw==7.6.0\n",
            "  Downloading praw-7.6.0-py3-none-any.whl (188 kB)\n",
            "\u001b[K     |████████████████████████████████| 188 kB 4.1 MB/s \n",
            "\u001b[?25hCollecting prawcore<3,>=2.1\n",
            "  Downloading prawcore-2.3.0-py3-none-any.whl (16 kB)\n",
            "Collecting websocket-client>=0.54.0\n",
            "  Downloading websocket_client-1.3.2-py3-none-any.whl (54 kB)\n",
            "\u001b[K     |████████████████████████████████| 54 kB 2.2 MB/s \n",
            "\u001b[?25hCollecting update-checker>=0.18\n",
            "  Downloading update_checker-0.18.0-py3-none-any.whl (7.0 kB)\n",
            "Requirement already satisfied: requests<3.0,>=2.6.0 in /usr/local/lib/python3.7/dist-packages (from prawcore<3,>=2.1->praw==7.6.0) (2.23.0)\n",
            "Requirement already satisfied: chardet<4,>=3.0.2 in /usr/local/lib/python3.7/dist-packages (from requests<3.0,>=2.6.0->prawcore<3,>=2.1->praw==7.6.0) (3.0.4)\n",
            "Requirement already satisfied: urllib3!=1.25.0,!=1.25.1,<1.26,>=1.21.1 in /usr/local/lib/python3.7/dist-packages (from requests<3.0,>=2.6.0->prawcore<3,>=2.1->praw==7.6.0) (1.24.3)\n",
            "Requirement already satisfied: certifi>=2017.4.17 in /usr/local/lib/python3.7/dist-packages (from requests<3.0,>=2.6.0->prawcore<3,>=2.1->praw==7.6.0) (2022.5.18.1)\n",
            "Requirement already satisfied: idna<3,>=2.5 in /usr/local/lib/python3.7/dist-packages (from requests<3.0,>=2.6.0->prawcore<3,>=2.1->praw==7.6.0) (2.10)\n",
            "Installing collected packages: websocket-client, update-checker, prawcore, praw\n",
            "Successfully installed praw-7.6.0 prawcore-2.3.0 update-checker-0.18.0 websocket-client-1.3.2\n"
          ]
        }
      ]
    },
    {
      "cell_type": "code",
      "execution_count": null,
      "metadata": {
        "id": "sV6bmC2SxHMw"
      },
      "outputs": [],
      "source": [
        "import datetime\n",
        "import praw\n",
        "import pandas as pd\n",
        "import numpy as np"
      ]
    },
    {
      "cell_type": "code",
      "source": [
        "def column_statistics(df,column):\n",
        "    print(\"max:\", df[column].max())\n",
        "    print(\"min:\", df[column].min())\n",
        "    print(\"mean:\", round(df[column].mean(),2))\n",
        "\n",
        "def column_statistics_str(df,column):\n",
        "    print(\"max:\", round(df[column].apply(len).max(),2))\n",
        "    print(\"min:\", round(df[column].apply(len).min(),2))\n",
        "    print(\"mean:\", round(df[column].apply(len).mean(),2))\n",
        "\n",
        "def column_statistics_age(df,column):\n",
        "    print(\"max:\", round(df[column].max() / 3600, 2))\n",
        "    print(\"min:\", round(df[column].min() / 3600, 2))\n",
        "    print(\"mean:\", round(df[column].mean() / 3600, 2)) "
      ],
      "metadata": {
        "id": "pCOrC9fJyWl9"
      },
      "execution_count": null,
      "outputs": []
    },
    {
      "cell_type": "code",
      "source": [
        "def geometric_mean(a,b):\n",
        "    return np.sqrt(a*b)"
      ],
      "metadata": {
        "id": "f5cv0V2iLD3X"
      },
      "execution_count": null,
      "outputs": []
    },
    {
      "cell_type": "code",
      "source": [
        "### CONNECT ###"
      ],
      "metadata": {
        "id": "LuMIG4DXQQ59"
      },
      "execution_count": null,
      "outputs": []
    },
    {
      "cell_type": "code",
      "source": [
        "with open('auth.txt', 'r') as f:\n",
        "    auth = {}\n",
        "    for line in f:\n",
        "        line = line.split()\n",
        "        auth[line[0]] = line[1]"
      ],
      "metadata": {
        "id": "3h4cOLC0HhMR"
      },
      "execution_count": null,
      "outputs": []
    },
    {
      "cell_type": "code",
      "source": [
        "reddit = praw.Reddit(client_id = auth['client_id'],\n",
        "                     client_secret = auth['client_secret'],\n",
        "                     user_agent = \"nlp_app\",\n",
        "                     check_for_async = False)"
      ],
      "metadata": {
        "id": "Lw2HvONnybih"
      },
      "execution_count": null,
      "outputs": []
    },
    {
      "cell_type": "code",
      "source": [
        "reddit.read_only = True"
      ],
      "metadata": {
        "id": "dDMFELrOvWQJ"
      },
      "execution_count": null,
      "outputs": []
    },
    {
      "cell_type": "code",
      "source": [
        "### GET DATA ###"
      ],
      "metadata": {
        "id": "-hle0Iq2JOzQ"
      },
      "execution_count": null,
      "outputs": []
    },
    {
      "cell_type": "code",
      "source": [
        "title = []\n",
        "upvotes = []\n",
        "ratio = []\n",
        "post_date = []\n",
        "pull_date = []\n",
        "id = []\n",
        "text = []\n",
        "\n",
        "subreddit = \"ask\"\n",
        "\n",
        "pull_limit = 1e4"
      ],
      "metadata": {
        "id": "6liuz0NIJZ0k"
      },
      "execution_count": null,
      "outputs": []
    },
    {
      "cell_type": "code",
      "source": [
        "for sub in reddit.subreddit(subreddit).new(limit = pull_limit):\n",
        "    if sub.is_self == True:\n",
        "        title.append(sub.title)\n",
        "        upvotes.append(sub.score)\n",
        "        ratio.append(sub.upvote_ratio)\n",
        "        post_date.append(int(sub.created_utc))\n",
        "        id.append(sub.id)\n",
        "        pull_date.append(int(datetime.datetime.now().timestamp()))\n",
        "        text.append(sub.selftext)\n",
        "        \n",
        "for sub in reddit.subreddit(subreddit).hot(limit = pull_limit):\n",
        "    if sub.is_self == True:\n",
        "        title.append(sub.title)\n",
        "        upvotes.append(sub.score)\n",
        "        ratio.append(sub.upvote_ratio)\n",
        "        post_date.append(int(sub.created_utc))\n",
        "        id.append(sub.id)\n",
        "        pull_date.append(int(datetime.datetime.now().timestamp()))\n",
        "        text.append(sub.selftext)  \n",
        "\n",
        "for sub in reddit.subreddit(subreddit).top(limit = pull_limit):\n",
        "    if sub.is_self == True:\n",
        "        title.append(sub.title)\n",
        "        upvotes.append(sub.score)\n",
        "        ratio.append(sub.upvote_ratio)\n",
        "        post_date.append(int(sub.created_utc))\n",
        "        id.append(sub.id)\n",
        "        pull_date.append(int(datetime.datetime.now().timestamp()))\n",
        "        text.append(sub.selftext)\n",
        "\n",
        "for sub in reddit.subreddit(subreddit).rising(limit = pull_limit):\n",
        "    if sub.is_self == True:\n",
        "        title.append(sub.title)\n",
        "        upvotes.append(sub.score)\n",
        "        ratio.append(sub.upvote_ratio)\n",
        "        post_date.append(int(sub.created_utc))\n",
        "        id.append(sub.id)\n",
        "        pull_date.append(int(datetime.datetime.now().timestamp()))\n",
        "        text.append(sub.selftext) \n",
        "            \n",
        "for sub in reddit.subreddit(subreddit).controversial(limit = pull_limit):\n",
        "    if sub.is_self == True:\n",
        "        title.append(sub.title)\n",
        "        upvotes.append(sub.score)\n",
        "        ratio.append(sub.upvote_ratio)\n",
        "        post_date.append(int(sub.created_utc))\n",
        "        id.append(sub.id)\n",
        "        pull_date.append(int(datetime.datetime.now().timestamp()))\n",
        "        text.append(sub.selftext) "
      ],
      "metadata": {
        "id": "dTo0swaDuIxP"
      },
      "execution_count": null,
      "outputs": []
    },
    {
      "cell_type": "code",
      "source": [
        "rdf = pd.DataFrame({\"Title\":title,\n",
        "                    \"Id\":id,\n",
        "                    \"Upvotes\":upvotes, \n",
        "                    \"Ratio\":ratio, \n",
        "                    \"Post_Date\":post_date,\n",
        "                    \"Pull_Date\":pull_date,\n",
        "                    \"Text\":text\n",
        "                    })"
      ],
      "metadata": {
        "id": "LwqQFjHAThMV"
      },
      "execution_count": null,
      "outputs": []
    },
    {
      "cell_type": "code",
      "source": [
        "rdf = rdf.sort_values(by = 'Pull_Date', ascending = False)\n",
        "rdf = rdf.drop_duplicates(subset = ['Id'], keep = 'first')"
      ],
      "metadata": {
        "id": "pql8Z2TgyZ4n"
      },
      "execution_count": null,
      "outputs": []
    },
    {
      "cell_type": "code",
      "source": [
        "rdf.shape"
      ],
      "metadata": {
        "colab": {
          "base_uri": "https://localhost:8080/"
        },
        "id": "WCxCn41dw4An",
        "outputId": "84fe4e9b-1429-4039-8088-9842e11d6184"
      },
      "execution_count": null,
      "outputs": [
        {
          "output_type": "execute_result",
          "data": {
            "text/plain": [
              "(2893, 7)"
            ]
          },
          "metadata": {},
          "execution_count": 15
        }
      ]
    },
    {
      "cell_type": "code",
      "source": [
        "### TRANSFORMATIONS ###"
      ],
      "metadata": {
        "id": "Eno8sC_2QKRY"
      },
      "execution_count": null,
      "outputs": []
    },
    {
      "cell_type": "code",
      "source": [
        "rdf['Age'] = rdf['Pull_Date'] - rdf['Post_Date']\n",
        "\n",
        "rdf['Age_Hours'] = rdf['Age'].apply(lambda x: x / 3600)"
      ],
      "metadata": {
        "id": "XqrvVsq41UXG"
      },
      "execution_count": null,
      "outputs": []
    },
    {
      "cell_type": "code",
      "source": [
        "rdf.loc[(rdf['Age_Hours'] >= 72)].shape"
      ],
      "metadata": {
        "colab": {
          "base_uri": "https://localhost:8080/"
        },
        "id": "qkEpiqsEsqeG",
        "outputId": "36ae8e70-fdb7-4687-817c-72b60b441bf7"
      },
      "execution_count": null,
      "outputs": [
        {
          "output_type": "execute_result",
          "data": {
            "text/plain": [
              "(2511, 9)"
            ]
          },
          "metadata": {},
          "execution_count": 18
        }
      ]
    },
    {
      "cell_type": "code",
      "source": [
        "# drop rows less than 3 days old\n",
        "rdf = rdf.loc[(rdf['Age_Hours'] >= 72)]"
      ],
      "metadata": {
        "id": "PSfwISKjuhOs"
      },
      "execution_count": null,
      "outputs": []
    },
    {
      "cell_type": "code",
      "source": [
        "rdf.shape"
      ],
      "metadata": {
        "colab": {
          "base_uri": "https://localhost:8080/"
        },
        "id": "mDOmkh845c82",
        "outputId": "796f804f-b2ff-4f58-a041-633d4bf2b250"
      },
      "execution_count": null,
      "outputs": [
        {
          "output_type": "execute_result",
          "data": {
            "text/plain": [
              "(2511, 9)"
            ]
          },
          "metadata": {},
          "execution_count": 20
        }
      ]
    },
    {
      "cell_type": "code",
      "source": [
        "if rdf.loc[(rdf['Ratio'] < 0)].shape[0] < 0:\n",
        "    rdf['Ratio'] = rdf['Ratio'].apply(np.absolute)\n",
        "\n",
        "if rdf.loc[(rdf['Upvotes'] < 0)].shape[0] < 0:\n",
        "    rdf['Upvotes'] = rdf['Upvotes'].apply(np.absolute)"
      ],
      "metadata": {
        "id": "60aL6m6XmsxD"
      },
      "execution_count": null,
      "outputs": []
    },
    {
      "cell_type": "code",
      "source": [
        "rdf['Geometric_Mean'] = rdf.apply(lambda x: geometric_mean(x.Upvotes, x.Ratio), axis=1)"
      ],
      "metadata": {
        "id": "rMROtQUlLeTx"
      },
      "execution_count": null,
      "outputs": []
    },
    {
      "cell_type": "code",
      "source": [
        "set(rdf['Title'].apply(type)) == {str}"
      ],
      "metadata": {
        "colab": {
          "base_uri": "https://localhost:8080/"
        },
        "id": "CpFjQLsFnDkz",
        "outputId": "e5da7b1e-a062-462c-859a-0b391dc5ae28"
      },
      "execution_count": null,
      "outputs": [
        {
          "output_type": "execute_result",
          "data": {
            "text/plain": [
              "True"
            ]
          },
          "metadata": {},
          "execution_count": 23
        }
      ]
    },
    {
      "cell_type": "code",
      "source": [
        "if set(rdf['Text'].apply(type)) != {str}:\n",
        "    rdf['Text'] = rdf['Text'].fillna('')"
      ],
      "metadata": {
        "id": "0iiyDeHenDjD"
      },
      "execution_count": null,
      "outputs": []
    },
    {
      "cell_type": "code",
      "source": [
        "set(rdf['Text'].apply(type)) == {str}"
      ],
      "metadata": {
        "colab": {
          "base_uri": "https://localhost:8080/"
        },
        "id": "Ux7MAlQdLGEH",
        "outputId": "c7be80d4-5485-451d-f85e-f67cbf6eb55f"
      },
      "execution_count": null,
      "outputs": [
        {
          "output_type": "execute_result",
          "data": {
            "text/plain": [
              "True"
            ]
          },
          "metadata": {},
          "execution_count": 25
        }
      ]
    },
    {
      "cell_type": "code",
      "source": [
        "rdf['Combine'] = rdf['Title'] + ' ' + rdf['Text']"
      ],
      "metadata": {
        "id": "tOY2c0j0nLAZ"
      },
      "execution_count": null,
      "outputs": []
    },
    {
      "cell_type": "code",
      "source": [
        "### INSPECT DATA ###"
      ],
      "metadata": {
        "id": "GMOuti4LQL_C"
      },
      "execution_count": null,
      "outputs": []
    },
    {
      "cell_type": "code",
      "source": [
        "rdf.head()"
      ],
      "metadata": {
        "colab": {
          "base_uri": "https://localhost:8080/",
          "height": 337
        },
        "id": "GO8wPVuE40SA",
        "outputId": "2f89f60f-23ef-4201-b475-464290b927c0"
      },
      "execution_count": null,
      "outputs": [
        {
          "output_type": "execute_result",
          "data": {
            "text/plain": [
              "                                                  Title      Id  Upvotes  \\\n",
              "3770           Why are trans people so easily offended?  lf948i        0   \n",
              "3762  Why are Canadians the only here is my next att...  ntp1c1        1   \n",
              "3763                    Girls don’t fart prove me wrong  nk34xe        1   \n",
              "3764  Wondering if anyone got naked punishment in sc...  nhxrit        1   \n",
              "3766  Non-binary parents what do you have your kids ...  m5mtts        1   \n",
              "\n",
              "      Ratio   Post_Date   Pull_Date  \\\n",
              "3770   0.40  1612780288  1654469252   \n",
              "3762   0.56  1622995498  1654469252   \n",
              "3763   0.55  1621876753  1654469252   \n",
              "3764   0.55  1621617381  1654469252   \n",
              "3766   0.56  1615821171  1654469252   \n",
              "\n",
              "                                                   Text       Age  \\\n",
              "3770                                                     41688964   \n",
              "3762                                                     31473754   \n",
              "3763  In my 17 years of existence I have not once he...  32592499   \n",
              "3764                                                     32851871   \n",
              "3766                                                     38648081   \n",
              "\n",
              "         Age_Hours  Geometric_Mean  \\\n",
              "3770  11580.267778        0.000000   \n",
              "3762   8742.709444        0.748331   \n",
              "3763   9053.471944        0.741620   \n",
              "3764   9125.519722        0.741620   \n",
              "3766  10735.578056        0.748331   \n",
              "\n",
              "                                                Combine  \n",
              "3770          Why are trans people so easily offended?   \n",
              "3762  Why are Canadians the only here is my next att...  \n",
              "3763  Girls don’t fart prove me wrong In my 17 years...  \n",
              "3764  Wondering if anyone got naked punishment in sc...  \n",
              "3766  Non-binary parents what do you have your kids ...  "
            ],
            "text/html": [
              "\n",
              "  <div id=\"df-838c8d82-580c-4d67-8bf9-bd7dcf78e620\">\n",
              "    <div class=\"colab-df-container\">\n",
              "      <div>\n",
              "<style scoped>\n",
              "    .dataframe tbody tr th:only-of-type {\n",
              "        vertical-align: middle;\n",
              "    }\n",
              "\n",
              "    .dataframe tbody tr th {\n",
              "        vertical-align: top;\n",
              "    }\n",
              "\n",
              "    .dataframe thead th {\n",
              "        text-align: right;\n",
              "    }\n",
              "</style>\n",
              "<table border=\"1\" class=\"dataframe\">\n",
              "  <thead>\n",
              "    <tr style=\"text-align: right;\">\n",
              "      <th></th>\n",
              "      <th>Title</th>\n",
              "      <th>Id</th>\n",
              "      <th>Upvotes</th>\n",
              "      <th>Ratio</th>\n",
              "      <th>Post_Date</th>\n",
              "      <th>Pull_Date</th>\n",
              "      <th>Text</th>\n",
              "      <th>Age</th>\n",
              "      <th>Age_Hours</th>\n",
              "      <th>Geometric_Mean</th>\n",
              "      <th>Combine</th>\n",
              "    </tr>\n",
              "  </thead>\n",
              "  <tbody>\n",
              "    <tr>\n",
              "      <th>3770</th>\n",
              "      <td>Why are trans people so easily offended?</td>\n",
              "      <td>lf948i</td>\n",
              "      <td>0</td>\n",
              "      <td>0.40</td>\n",
              "      <td>1612780288</td>\n",
              "      <td>1654469252</td>\n",
              "      <td></td>\n",
              "      <td>41688964</td>\n",
              "      <td>11580.267778</td>\n",
              "      <td>0.000000</td>\n",
              "      <td>Why are trans people so easily offended?</td>\n",
              "    </tr>\n",
              "    <tr>\n",
              "      <th>3762</th>\n",
              "      <td>Why are Canadians the only here is my next att...</td>\n",
              "      <td>ntp1c1</td>\n",
              "      <td>1</td>\n",
              "      <td>0.56</td>\n",
              "      <td>1622995498</td>\n",
              "      <td>1654469252</td>\n",
              "      <td></td>\n",
              "      <td>31473754</td>\n",
              "      <td>8742.709444</td>\n",
              "      <td>0.748331</td>\n",
              "      <td>Why are Canadians the only here is my next att...</td>\n",
              "    </tr>\n",
              "    <tr>\n",
              "      <th>3763</th>\n",
              "      <td>Girls don’t fart prove me wrong</td>\n",
              "      <td>nk34xe</td>\n",
              "      <td>1</td>\n",
              "      <td>0.55</td>\n",
              "      <td>1621876753</td>\n",
              "      <td>1654469252</td>\n",
              "      <td>In my 17 years of existence I have not once he...</td>\n",
              "      <td>32592499</td>\n",
              "      <td>9053.471944</td>\n",
              "      <td>0.741620</td>\n",
              "      <td>Girls don’t fart prove me wrong In my 17 years...</td>\n",
              "    </tr>\n",
              "    <tr>\n",
              "      <th>3764</th>\n",
              "      <td>Wondering if anyone got naked punishment in sc...</td>\n",
              "      <td>nhxrit</td>\n",
              "      <td>1</td>\n",
              "      <td>0.55</td>\n",
              "      <td>1621617381</td>\n",
              "      <td>1654469252</td>\n",
              "      <td></td>\n",
              "      <td>32851871</td>\n",
              "      <td>9125.519722</td>\n",
              "      <td>0.741620</td>\n",
              "      <td>Wondering if anyone got naked punishment in sc...</td>\n",
              "    </tr>\n",
              "    <tr>\n",
              "      <th>3766</th>\n",
              "      <td>Non-binary parents what do you have your kids ...</td>\n",
              "      <td>m5mtts</td>\n",
              "      <td>1</td>\n",
              "      <td>0.56</td>\n",
              "      <td>1615821171</td>\n",
              "      <td>1654469252</td>\n",
              "      <td></td>\n",
              "      <td>38648081</td>\n",
              "      <td>10735.578056</td>\n",
              "      <td>0.748331</td>\n",
              "      <td>Non-binary parents what do you have your kids ...</td>\n",
              "    </tr>\n",
              "  </tbody>\n",
              "</table>\n",
              "</div>\n",
              "      <button class=\"colab-df-convert\" onclick=\"convertToInteractive('df-838c8d82-580c-4d67-8bf9-bd7dcf78e620')\"\n",
              "              title=\"Convert this dataframe to an interactive table.\"\n",
              "              style=\"display:none;\">\n",
              "        \n",
              "  <svg xmlns=\"http://www.w3.org/2000/svg\" height=\"24px\"viewBox=\"0 0 24 24\"\n",
              "       width=\"24px\">\n",
              "    <path d=\"M0 0h24v24H0V0z\" fill=\"none\"/>\n",
              "    <path d=\"M18.56 5.44l.94 2.06.94-2.06 2.06-.94-2.06-.94-.94-2.06-.94 2.06-2.06.94zm-11 1L8.5 8.5l.94-2.06 2.06-.94-2.06-.94L8.5 2.5l-.94 2.06-2.06.94zm10 10l.94 2.06.94-2.06 2.06-.94-2.06-.94-.94-2.06-.94 2.06-2.06.94z\"/><path d=\"M17.41 7.96l-1.37-1.37c-.4-.4-.92-.59-1.43-.59-.52 0-1.04.2-1.43.59L10.3 9.45l-7.72 7.72c-.78.78-.78 2.05 0 2.83L4 21.41c.39.39.9.59 1.41.59.51 0 1.02-.2 1.41-.59l7.78-7.78 2.81-2.81c.8-.78.8-2.07 0-2.86zM5.41 20L4 18.59l7.72-7.72 1.47 1.35L5.41 20z\"/>\n",
              "  </svg>\n",
              "      </button>\n",
              "      \n",
              "  <style>\n",
              "    .colab-df-container {\n",
              "      display:flex;\n",
              "      flex-wrap:wrap;\n",
              "      gap: 12px;\n",
              "    }\n",
              "\n",
              "    .colab-df-convert {\n",
              "      background-color: #E8F0FE;\n",
              "      border: none;\n",
              "      border-radius: 50%;\n",
              "      cursor: pointer;\n",
              "      display: none;\n",
              "      fill: #1967D2;\n",
              "      height: 32px;\n",
              "      padding: 0 0 0 0;\n",
              "      width: 32px;\n",
              "    }\n",
              "\n",
              "    .colab-df-convert:hover {\n",
              "      background-color: #E2EBFA;\n",
              "      box-shadow: 0px 1px 2px rgba(60, 64, 67, 0.3), 0px 1px 3px 1px rgba(60, 64, 67, 0.15);\n",
              "      fill: #174EA6;\n",
              "    }\n",
              "\n",
              "    [theme=dark] .colab-df-convert {\n",
              "      background-color: #3B4455;\n",
              "      fill: #D2E3FC;\n",
              "    }\n",
              "\n",
              "    [theme=dark] .colab-df-convert:hover {\n",
              "      background-color: #434B5C;\n",
              "      box-shadow: 0px 1px 3px 1px rgba(0, 0, 0, 0.15);\n",
              "      filter: drop-shadow(0px 1px 2px rgba(0, 0, 0, 0.3));\n",
              "      fill: #FFFFFF;\n",
              "    }\n",
              "  </style>\n",
              "\n",
              "      <script>\n",
              "        const buttonEl =\n",
              "          document.querySelector('#df-838c8d82-580c-4d67-8bf9-bd7dcf78e620 button.colab-df-convert');\n",
              "        buttonEl.style.display =\n",
              "          google.colab.kernel.accessAllowed ? 'block' : 'none';\n",
              "\n",
              "        async function convertToInteractive(key) {\n",
              "          const element = document.querySelector('#df-838c8d82-580c-4d67-8bf9-bd7dcf78e620');\n",
              "          const dataTable =\n",
              "            await google.colab.kernel.invokeFunction('convertToInteractive',\n",
              "                                                     [key], {});\n",
              "          if (!dataTable) return;\n",
              "\n",
              "          const docLinkHtml = 'Like what you see? Visit the ' +\n",
              "            '<a target=\"_blank\" href=https://colab.research.google.com/notebooks/data_table.ipynb>data table notebook</a>'\n",
              "            + ' to learn more about interactive tables.';\n",
              "          element.innerHTML = '';\n",
              "          dataTable['output_type'] = 'display_data';\n",
              "          await google.colab.output.renderOutput(dataTable, element);\n",
              "          const docLink = document.createElement('div');\n",
              "          docLink.innerHTML = docLinkHtml;\n",
              "          element.appendChild(docLink);\n",
              "        }\n",
              "      </script>\n",
              "    </div>\n",
              "  </div>\n",
              "  "
            ]
          },
          "metadata": {},
          "execution_count": 28
        }
      ]
    },
    {
      "cell_type": "code",
      "source": [
        "column_statistics(rdf,'Upvotes')"
      ],
      "metadata": {
        "colab": {
          "base_uri": "https://localhost:8080/"
        },
        "id": "_s3bL3wblBOP",
        "outputId": "0cfec70b-ec0b-41f1-e97b-7d60bd39bd96"
      },
      "execution_count": null,
      "outputs": [
        {
          "output_type": "stream",
          "name": "stdout",
          "text": [
            "max: 3026\n",
            "min: 0\n",
            "mean: 185.63\n"
          ]
        }
      ]
    },
    {
      "cell_type": "code",
      "source": [
        "column_statistics(rdf,'Ratio')"
      ],
      "metadata": {
        "colab": {
          "base_uri": "https://localhost:8080/"
        },
        "id": "nPTvL690lI9F",
        "outputId": "7e4bfa67-af70-4069-82f5-f5a8392f3dcc"
      },
      "execution_count": null,
      "outputs": [
        {
          "output_type": "stream",
          "name": "stdout",
          "text": [
            "max: 1.0\n",
            "min: 0.2\n",
            "mean: 0.73\n"
          ]
        }
      ]
    },
    {
      "cell_type": "code",
      "source": [
        "column_statistics(rdf,'Geometric_Mean')"
      ],
      "metadata": {
        "colab": {
          "base_uri": "https://localhost:8080/"
        },
        "id": "p1nCfWfjM6qa",
        "outputId": "7114655c-dc8f-48f3-e37f-1893870fdc3c"
      },
      "execution_count": null,
      "outputs": [
        {
          "output_type": "stream",
          "name": "stdout",
          "text": [
            "max: 53.33329166665039\n",
            "min: 0.0\n",
            "mean: 8.26\n"
          ]
        }
      ]
    },
    {
      "cell_type": "code",
      "source": [
        "column_statistics_age(rdf,'Age_Hours')"
      ],
      "metadata": {
        "colab": {
          "base_uri": "https://localhost:8080/"
        },
        "id": "UuoxSNk1_eFW",
        "outputId": "4d26d5f4-4329-498d-b930-ff7dd547eff6"
      },
      "execution_count": null,
      "outputs": [
        {
          "output_type": "stream",
          "name": "stdout",
          "text": [
            "max: 27.5\n",
            "min: 0.02\n",
            "mean: 3.85\n"
          ]
        }
      ]
    },
    {
      "cell_type": "code",
      "source": [
        "column_statistics_str(rdf,'Text')"
      ],
      "metadata": {
        "colab": {
          "base_uri": "https://localhost:8080/"
        },
        "id": "h14CrHjlyuYe",
        "outputId": "e325f291-df2e-464d-db69-353a411c132d"
      },
      "execution_count": null,
      "outputs": [
        {
          "output_type": "stream",
          "name": "stdout",
          "text": [
            "max: 4785\n",
            "min: 0\n",
            "mean: 190.83\n"
          ]
        }
      ]
    },
    {
      "cell_type": "code",
      "source": [
        "### SAVE DATAFRAME ###"
      ],
      "metadata": {
        "id": "eNMrsErZQVLb"
      },
      "execution_count": null,
      "outputs": []
    },
    {
      "cell_type": "code",
      "source": [
        "timestamp = datetime.datetime.now().strftime('%Y-%m-%d__%H-%M-%S')\n",
        "filename = str(subreddit) + '__' + str(timestamp) + '.csv'\n",
        "rdf.to_csv(filename, index= False)"
      ],
      "metadata": {
        "id": "COlS2xrl0r6A"
      },
      "execution_count": null,
      "outputs": []
    }
  ]
}