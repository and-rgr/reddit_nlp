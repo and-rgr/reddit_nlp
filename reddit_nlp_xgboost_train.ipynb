{
  "nbformat": 4,
  "nbformat_minor": 0,
  "metadata": {
    "colab": {
      "name": "reddit nlp - xgboost train.ipynb",
      "provenance": [],
      "collapsed_sections": []
    },
    "kernelspec": {
      "name": "python3",
      "display_name": "Python 3"
    },
    "language_info": {
      "name": "python"
    }
  },
  "cells": [
    {
      "cell_type": "code",
      "source": [
        "### LIBRARIES AND FUNCTIONS ###"
      ],
      "metadata": {
        "id": "i6VVzzZwfFIs"
      },
      "execution_count": 1,
      "outputs": []
    },
    {
      "cell_type": "code",
      "source": [
        "!pip install \"numpy==1.21.6\"\n",
        "!pip install \"pandas==1.3.5\"\n",
        "!pip install \"xgboost==1.6.1\"\n",
        "!pip install \"nltk==3.2.5\"\n",
        "!pip install \"tensorflow==2.8.2\"\n",
        "!pip install \"keras==2.8.0\"\n",
        "!pip install \"keras-Preprocessing==1.1.2\"\n",
        "!pip install \"scikit-learn==1.0.2\""
      ],
      "metadata": {
        "id": "EuqD1mpHcBqI",
        "colab": {
          "base_uri": "https://localhost:8080/"
        },
        "outputId": "2dd9d02d-eb5f-4c2c-d33c-55bc1a72614d"
      },
      "execution_count": 2,
      "outputs": [
        {
          "output_type": "stream",
          "name": "stdout",
          "text": [
            "Looking in indexes: https://pypi.org/simple, https://us-python.pkg.dev/colab-wheels/public/simple/\n",
            "Requirement already satisfied: numpy==1.21.6 in /usr/local/lib/python3.7/dist-packages (1.21.6)\n",
            "Looking in indexes: https://pypi.org/simple, https://us-python.pkg.dev/colab-wheels/public/simple/\n",
            "Requirement already satisfied: pandas==1.3.5 in /usr/local/lib/python3.7/dist-packages (1.3.5)\n",
            "Requirement already satisfied: numpy>=1.17.3 in /usr/local/lib/python3.7/dist-packages (from pandas==1.3.5) (1.21.6)\n",
            "Requirement already satisfied: pytz>=2017.3 in /usr/local/lib/python3.7/dist-packages (from pandas==1.3.5) (2022.1)\n",
            "Requirement already satisfied: python-dateutil>=2.7.3 in /usr/local/lib/python3.7/dist-packages (from pandas==1.3.5) (2.8.2)\n",
            "Requirement already satisfied: six>=1.5 in /usr/local/lib/python3.7/dist-packages (from python-dateutil>=2.7.3->pandas==1.3.5) (1.15.0)\n",
            "Looking in indexes: https://pypi.org/simple, https://us-python.pkg.dev/colab-wheels/public/simple/\n",
            "Requirement already satisfied: xgboost==1.6.1 in /usr/local/lib/python3.7/dist-packages (1.6.1)\n",
            "Requirement already satisfied: scipy in /usr/local/lib/python3.7/dist-packages (from xgboost==1.6.1) (1.4.1)\n",
            "Requirement already satisfied: numpy in /usr/local/lib/python3.7/dist-packages (from xgboost==1.6.1) (1.21.6)\n",
            "Looking in indexes: https://pypi.org/simple, https://us-python.pkg.dev/colab-wheels/public/simple/\n",
            "Requirement already satisfied: nltk==3.2.5 in /usr/local/lib/python3.7/dist-packages (3.2.5)\n",
            "Requirement already satisfied: six in /usr/local/lib/python3.7/dist-packages (from nltk==3.2.5) (1.15.0)\n",
            "Looking in indexes: https://pypi.org/simple, https://us-python.pkg.dev/colab-wheels/public/simple/\n",
            "Requirement already satisfied: tensorflow==2.8.2 in /usr/local/lib/python3.7/dist-packages (2.8.2+zzzcolab20220527125636)\n",
            "Requirement already satisfied: wrapt>=1.11.0 in /usr/local/lib/python3.7/dist-packages (from tensorflow==2.8.2) (1.14.1)\n",
            "Requirement already satisfied: six>=1.12.0 in /usr/local/lib/python3.7/dist-packages (from tensorflow==2.8.2) (1.15.0)\n",
            "Requirement already satisfied: grpcio<2.0,>=1.24.3 in /usr/local/lib/python3.7/dist-packages (from tensorflow==2.8.2) (1.46.3)\n",
            "Requirement already satisfied: keras-preprocessing>=1.1.1 in /usr/local/lib/python3.7/dist-packages (from tensorflow==2.8.2) (1.1.2)\n",
            "Requirement already satisfied: typing-extensions>=3.6.6 in /usr/local/lib/python3.7/dist-packages (from tensorflow==2.8.2) (4.2.0)\n",
            "Requirement already satisfied: gast>=0.2.1 in /usr/local/lib/python3.7/dist-packages (from tensorflow==2.8.2) (0.5.3)\n",
            "Requirement already satisfied: h5py>=2.9.0 in /usr/local/lib/python3.7/dist-packages (from tensorflow==2.8.2) (3.1.0)\n",
            "Requirement already satisfied: libclang>=9.0.1 in /usr/local/lib/python3.7/dist-packages (from tensorflow==2.8.2) (14.0.1)\n",
            "Requirement already satisfied: absl-py>=0.4.0 in /usr/local/lib/python3.7/dist-packages (from tensorflow==2.8.2) (1.0.0)\n",
            "Requirement already satisfied: keras<2.9,>=2.8.0rc0 in /usr/local/lib/python3.7/dist-packages (from tensorflow==2.8.2) (2.8.0)\n",
            "Requirement already satisfied: protobuf<3.20,>=3.9.2 in /usr/local/lib/python3.7/dist-packages (from tensorflow==2.8.2) (3.17.3)\n",
            "Requirement already satisfied: tensorflow-io-gcs-filesystem>=0.23.1 in /usr/local/lib/python3.7/dist-packages (from tensorflow==2.8.2) (0.26.0)\n",
            "Requirement already satisfied: tensorflow-estimator<2.9,>=2.8 in /usr/local/lib/python3.7/dist-packages (from tensorflow==2.8.2) (2.8.0)\n",
            "Requirement already satisfied: tensorboard<2.9,>=2.8 in /usr/local/lib/python3.7/dist-packages (from tensorflow==2.8.2) (2.8.0)\n",
            "Requirement already satisfied: setuptools in /usr/local/lib/python3.7/dist-packages (from tensorflow==2.8.2) (57.4.0)\n",
            "Requirement already satisfied: google-pasta>=0.1.1 in /usr/local/lib/python3.7/dist-packages (from tensorflow==2.8.2) (0.2.0)\n",
            "Requirement already satisfied: astunparse>=1.6.0 in /usr/local/lib/python3.7/dist-packages (from tensorflow==2.8.2) (1.6.3)\n",
            "Requirement already satisfied: termcolor>=1.1.0 in /usr/local/lib/python3.7/dist-packages (from tensorflow==2.8.2) (1.1.0)\n",
            "Requirement already satisfied: flatbuffers>=1.12 in /usr/local/lib/python3.7/dist-packages (from tensorflow==2.8.2) (2.0)\n",
            "Requirement already satisfied: opt-einsum>=2.3.2 in /usr/local/lib/python3.7/dist-packages (from tensorflow==2.8.2) (3.3.0)\n",
            "Requirement already satisfied: numpy>=1.20 in /usr/local/lib/python3.7/dist-packages (from tensorflow==2.8.2) (1.21.6)\n",
            "Requirement already satisfied: wheel<1.0,>=0.23.0 in /usr/local/lib/python3.7/dist-packages (from astunparse>=1.6.0->tensorflow==2.8.2) (0.37.1)\n",
            "Requirement already satisfied: cached-property in /usr/local/lib/python3.7/dist-packages (from h5py>=2.9.0->tensorflow==2.8.2) (1.5.2)\n",
            "Requirement already satisfied: werkzeug>=0.11.15 in /usr/local/lib/python3.7/dist-packages (from tensorboard<2.9,>=2.8->tensorflow==2.8.2) (1.0.1)\n",
            "Requirement already satisfied: google-auth<3,>=1.6.3 in /usr/local/lib/python3.7/dist-packages (from tensorboard<2.9,>=2.8->tensorflow==2.8.2) (1.35.0)\n",
            "Requirement already satisfied: tensorboard-plugin-wit>=1.6.0 in /usr/local/lib/python3.7/dist-packages (from tensorboard<2.9,>=2.8->tensorflow==2.8.2) (1.8.1)\n",
            "Requirement already satisfied: tensorboard-data-server<0.7.0,>=0.6.0 in /usr/local/lib/python3.7/dist-packages (from tensorboard<2.9,>=2.8->tensorflow==2.8.2) (0.6.1)\n",
            "Requirement already satisfied: requests<3,>=2.21.0 in /usr/local/lib/python3.7/dist-packages (from tensorboard<2.9,>=2.8->tensorflow==2.8.2) (2.23.0)\n",
            "Requirement already satisfied: google-auth-oauthlib<0.5,>=0.4.1 in /usr/local/lib/python3.7/dist-packages (from tensorboard<2.9,>=2.8->tensorflow==2.8.2) (0.4.6)\n",
            "Requirement already satisfied: markdown>=2.6.8 in /usr/local/lib/python3.7/dist-packages (from tensorboard<2.9,>=2.8->tensorflow==2.8.2) (3.3.7)\n",
            "Requirement already satisfied: pyasn1-modules>=0.2.1 in /usr/local/lib/python3.7/dist-packages (from google-auth<3,>=1.6.3->tensorboard<2.9,>=2.8->tensorflow==2.8.2) (0.2.8)\n",
            "Requirement already satisfied: cachetools<5.0,>=2.0.0 in /usr/local/lib/python3.7/dist-packages (from google-auth<3,>=1.6.3->tensorboard<2.9,>=2.8->tensorflow==2.8.2) (4.2.4)\n",
            "Requirement already satisfied: rsa<5,>=3.1.4 in /usr/local/lib/python3.7/dist-packages (from google-auth<3,>=1.6.3->tensorboard<2.9,>=2.8->tensorflow==2.8.2) (4.8)\n",
            "Requirement already satisfied: requests-oauthlib>=0.7.0 in /usr/local/lib/python3.7/dist-packages (from google-auth-oauthlib<0.5,>=0.4.1->tensorboard<2.9,>=2.8->tensorflow==2.8.2) (1.3.1)\n",
            "Requirement already satisfied: importlib-metadata>=4.4 in /usr/local/lib/python3.7/dist-packages (from markdown>=2.6.8->tensorboard<2.9,>=2.8->tensorflow==2.8.2) (4.11.4)\n",
            "Requirement already satisfied: zipp>=0.5 in /usr/local/lib/python3.7/dist-packages (from importlib-metadata>=4.4->markdown>=2.6.8->tensorboard<2.9,>=2.8->tensorflow==2.8.2) (3.8.0)\n",
            "Requirement already satisfied: pyasn1<0.5.0,>=0.4.6 in /usr/local/lib/python3.7/dist-packages (from pyasn1-modules>=0.2.1->google-auth<3,>=1.6.3->tensorboard<2.9,>=2.8->tensorflow==2.8.2) (0.4.8)\n",
            "Requirement already satisfied: certifi>=2017.4.17 in /usr/local/lib/python3.7/dist-packages (from requests<3,>=2.21.0->tensorboard<2.9,>=2.8->tensorflow==2.8.2) (2022.5.18.1)\n",
            "Requirement already satisfied: idna<3,>=2.5 in /usr/local/lib/python3.7/dist-packages (from requests<3,>=2.21.0->tensorboard<2.9,>=2.8->tensorflow==2.8.2) (2.10)\n",
            "Requirement already satisfied: chardet<4,>=3.0.2 in /usr/local/lib/python3.7/dist-packages (from requests<3,>=2.21.0->tensorboard<2.9,>=2.8->tensorflow==2.8.2) (3.0.4)\n",
            "Requirement already satisfied: urllib3!=1.25.0,!=1.25.1,<1.26,>=1.21.1 in /usr/local/lib/python3.7/dist-packages (from requests<3,>=2.21.0->tensorboard<2.9,>=2.8->tensorflow==2.8.2) (1.24.3)\n",
            "Requirement already satisfied: oauthlib>=3.0.0 in /usr/local/lib/python3.7/dist-packages (from requests-oauthlib>=0.7.0->google-auth-oauthlib<0.5,>=0.4.1->tensorboard<2.9,>=2.8->tensorflow==2.8.2) (3.2.0)\n",
            "Looking in indexes: https://pypi.org/simple, https://us-python.pkg.dev/colab-wheels/public/simple/\n",
            "Requirement already satisfied: keras==2.8.0 in /usr/local/lib/python3.7/dist-packages (2.8.0)\n",
            "Looking in indexes: https://pypi.org/simple, https://us-python.pkg.dev/colab-wheels/public/simple/\n",
            "Requirement already satisfied: keras-Preprocessing==1.1.2 in /usr/local/lib/python3.7/dist-packages (1.1.2)\n",
            "Requirement already satisfied: six>=1.9.0 in /usr/local/lib/python3.7/dist-packages (from keras-Preprocessing==1.1.2) (1.15.0)\n",
            "Requirement already satisfied: numpy>=1.9.1 in /usr/local/lib/python3.7/dist-packages (from keras-Preprocessing==1.1.2) (1.21.6)\n",
            "Looking in indexes: https://pypi.org/simple, https://us-python.pkg.dev/colab-wheels/public/simple/\n",
            "Requirement already satisfied: scikit-learn==1.0.2 in /usr/local/lib/python3.7/dist-packages (1.0.2)\n",
            "Requirement already satisfied: threadpoolctl>=2.0.0 in /usr/local/lib/python3.7/dist-packages (from scikit-learn==1.0.2) (3.1.0)\n",
            "Requirement already satisfied: numpy>=1.14.6 in /usr/local/lib/python3.7/dist-packages (from scikit-learn==1.0.2) (1.21.6)\n",
            "Requirement already satisfied: joblib>=0.11 in /usr/local/lib/python3.7/dist-packages (from scikit-learn==1.0.2) (1.1.0)\n",
            "Requirement already satisfied: scipy>=1.1.0 in /usr/local/lib/python3.7/dist-packages (from scikit-learn==1.0.2) (1.4.1)\n"
          ]
        }
      ]
    },
    {
      "cell_type": "code",
      "source": [
        "import datetime\n",
        "import regex as re\n",
        "import random\n",
        "import numpy as np\n",
        "import pandas as pd\n",
        "\n",
        "import nltk\n",
        "from nltk.corpus import stopwords as nltk_stopwords\n",
        "import xgboost as xgb\n",
        "from sklearn.model_selection import train_test_split\n",
        "from sklearn.metrics import mean_squared_error\n",
        "from sklearn.model_selection import GridSearchCV\n",
        "from tensorflow.keras.preprocessing.text import Tokenizer\n",
        "from tensorflow.keras.preprocessing.sequence import pad_sequences"
      ],
      "metadata": {
        "id": "3nYYy7_gNJO7"
      },
      "execution_count": 3,
      "outputs": []
    },
    {
      "cell_type": "code",
      "source": [
        "def rmse(a, b):\n",
        "    return mean_squared_error(a,b, squared = False)"
      ],
      "metadata": {
        "id": "J9if5kxIjMjS"
      },
      "execution_count": 4,
      "outputs": []
    },
    {
      "cell_type": "code",
      "source": [
        "### GET DATA ###"
      ],
      "metadata": {
        "id": "0IXZ6mHte_L_"
      },
      "execution_count": 5,
      "outputs": []
    },
    {
      "cell_type": "code",
      "source": [
        "rdf = pd.read_csv('ask__2022-06-05__22-47-32.csv', escapechar='\\\\', delimiter= ',')\n",
        "rdf.shape"
      ],
      "metadata": {
        "id": "lgymw1DKiWHf",
        "colab": {
          "base_uri": "https://localhost:8080/"
        },
        "outputId": "5417c8b9-0783-4be8-b8e8-87148268a43a"
      },
      "execution_count": 6,
      "outputs": [
        {
          "output_type": "execute_result",
          "data": {
            "text/plain": [
              "(2511, 11)"
            ]
          },
          "metadata": {},
          "execution_count": 6
        }
      ]
    },
    {
      "cell_type": "code",
      "source": [
        "data = rdf['Combine']\n",
        "labels = rdf['Geometric_Mean']\n",
        "labels_np = np.array(labels)"
      ],
      "metadata": {
        "id": "djK2F-B-SfqS"
      },
      "execution_count": 7,
      "outputs": []
    },
    {
      "cell_type": "code",
      "source": [
        "### DATA PROCESSING ###"
      ],
      "metadata": {
        "id": "uuo8v0311pTI"
      },
      "execution_count": 8,
      "outputs": []
    },
    {
      "cell_type": "code",
      "source": [
        "# remove punctuation\n",
        "data = data.apply(lambda x: re.sub(r'[^\\w]', ' ', x))"
      ],
      "metadata": {
        "id": "bR8BKC5F2yTh"
      },
      "execution_count": 9,
      "outputs": []
    },
    {
      "cell_type": "code",
      "source": [
        "# make lowercase\n",
        "data = data.apply(lambda x: x.lower())"
      ],
      "metadata": {
        "id": "k2S_l6Ak2kWV"
      },
      "execution_count": 10,
      "outputs": []
    },
    {
      "cell_type": "code",
      "source": [
        "# remove stopwords\n",
        "nltk.download('stopwords')\n",
        "stopwords = nltk_stopwords.words('english')\n",
        "data = data.apply(lambda x: ' '.join([word for word in x.split() if word not in (stopwords)]))"
      ],
      "metadata": {
        "id": "HpnCrkha2nuL",
        "colab": {
          "base_uri": "https://localhost:8080/"
        },
        "outputId": "413c06af-6972-44ce-f0b3-3ae758de349f"
      },
      "execution_count": 11,
      "outputs": [
        {
          "output_type": "stream",
          "name": "stdout",
          "text": [
            "[nltk_data] Downloading package stopwords to /root/nltk_data...\n",
            "[nltk_data]   Package stopwords is already up-to-date!\n"
          ]
        }
      ]
    },
    {
      "cell_type": "code",
      "source": [
        "### TOKENIZATION ###"
      ],
      "metadata": {
        "id": "zCF4kz2-TGju"
      },
      "execution_count": 12,
      "outputs": []
    },
    {
      "cell_type": "code",
      "source": [
        "# we adjust the max tokenization length to the length of 99% of the data\n",
        "# sort in ascending order with reverse = False \n",
        "lengths = sorted([len(elem) for elem in data], reverse = False)\n",
        "index = int(len(lengths) * 0.99)\n",
        "maxlen = lengths[index]"
      ],
      "metadata": {
        "id": "rJUTPTXQPdLi"
      },
      "execution_count": 13,
      "outputs": []
    },
    {
      "cell_type": "code",
      "source": [
        "# we use the same tokenizer for training and test data\n",
        "tokenizer = Tokenizer(oov_token = \"<OOV>\")\n",
        "tokenizer.fit_on_texts(data)\n",
        "sequences = tokenizer.texts_to_sequences(data)\n",
        "tokenized_data = pad_sequences(sequences, maxlen = maxlen, padding = 'post')"
      ],
      "metadata": {
        "id": "bvRePqMclH-R"
      },
      "execution_count": 14,
      "outputs": []
    },
    {
      "cell_type": "code",
      "source": [
        "### TRAIN TEST SPLIT ###"
      ],
      "metadata": {
        "id": "MOHW_tX45WGM"
      },
      "execution_count": 15,
      "outputs": []
    },
    {
      "cell_type": "code",
      "source": [
        "X_train, X_test, Y_train, Y_test = train_test_split(tokenized_data, labels_np, test_size = 0.1)"
      ],
      "metadata": {
        "id": "-1vsNXzX5clp"
      },
      "execution_count": 16,
      "outputs": []
    },
    {
      "cell_type": "code",
      "source": [
        "### XGBOOST ###"
      ],
      "metadata": {
        "id": "J1keJtxgBUyO"
      },
      "execution_count": 17,
      "outputs": []
    },
    {
      "cell_type": "code",
      "source": [
        "xgb_reg = xgb.XGBRegressor()"
      ],
      "metadata": {
        "id": "PQxKeHst3NaK"
      },
      "execution_count": 18,
      "outputs": []
    },
    {
      "cell_type": "code",
      "source": [
        "hyperparameter_grid = {'learning_rate': [0.15, 0.155, 0.16],\n",
        "                       'max_depth': [12, 13, 14],\n",
        "                       'colsample_bytree': [0.20, 0.21, 0.22],\n",
        "                       'gamma': [10],\n",
        "                       'reg_lambda': [1, 1.1, 1.2],\n",
        "                       'reg_alpha': [0],\n",
        "                       'subsample': [1],\n",
        "                       'min_child_weight': [1],\n",
        "                       'n_estimators':[50]\n",
        "                       }"
      ],
      "metadata": {
        "id": "7xi9H5ASFbHY"
      },
      "execution_count": 19,
      "outputs": []
    },
    {
      "cell_type": "code",
      "source": [
        "rand_xgb_reg = GridSearchCV(estimator = xgb_reg, \n",
        "                            param_grid = hyperparameter_grid,\n",
        "                            n_jobs = -1, \n",
        "                            cv = 5,\n",
        "                            scoring = 'neg_root_mean_squared_error',\n",
        "                            verbose = 1,\n",
        "                            return_train_score = False)"
      ],
      "metadata": {
        "id": "VWoNVzFUG7EK"
      },
      "execution_count": 20,
      "outputs": []
    },
    {
      "cell_type": "code",
      "source": [
        "grid_search_start = datetime.datetime.now()"
      ],
      "metadata": {
        "id": "XDJR4TIC2Iwn"
      },
      "execution_count": 21,
      "outputs": []
    },
    {
      "cell_type": "code",
      "source": [
        "rand_xgb_reg.fit(X_train, Y_train)"
      ],
      "metadata": {
        "id": "lv5pXx83IW-R",
        "colab": {
          "base_uri": "https://localhost:8080/"
        },
        "outputId": "183303f4-f3ac-4366-fc28-5f171cd17bc6"
      },
      "execution_count": 22,
      "outputs": [
        {
          "output_type": "stream",
          "name": "stdout",
          "text": [
            "Fitting 5 folds for each of 81 candidates, totalling 405 fits\n"
          ]
        },
        {
          "output_type": "execute_result",
          "data": {
            "text/plain": [
              "GridSearchCV(cv=5,\n",
              "             estimator=XGBRegressor(base_score=None, booster=None,\n",
              "                                    callbacks=None, colsample_bylevel=None,\n",
              "                                    colsample_bynode=None,\n",
              "                                    colsample_bytree=None,\n",
              "                                    early_stopping_rounds=None,\n",
              "                                    enable_categorical=False, eval_metric=None,\n",
              "                                    gamma=None, gpu_id=None, grow_policy=None,\n",
              "                                    importance_type=None,\n",
              "                                    interaction_constraints=None,\n",
              "                                    learning_rate=None, max_bin=None,\n",
              "                                    max_cat...\n",
              "                                    n_jobs=None, num_parallel_tree=None,\n",
              "                                    predictor=None, random_state=None,\n",
              "                                    reg_alpha=None, reg_lambda=None, ...),\n",
              "             n_jobs=-1,\n",
              "             param_grid={'colsample_bytree': [0.2, 0.21, 0.22], 'gamma': [10],\n",
              "                         'learning_rate': [0.15, 0.155, 0.16],\n",
              "                         'max_depth': [12, 13, 14], 'min_child_weight': [1],\n",
              "                         'n_estimators': [50], 'reg_alpha': [0],\n",
              "                         'reg_lambda': [1, 1.1, 1.2], 'subsample': [1]},\n",
              "             scoring='neg_root_mean_squared_error', verbose=1)"
            ]
          },
          "metadata": {},
          "execution_count": 22
        }
      ]
    },
    {
      "cell_type": "code",
      "source": [
        "grid_search_end = datetime.datetime.now()\n",
        "grid_search_duration = grid_search_end - grid_search_start"
      ],
      "metadata": {
        "id": "aSXlzzej2Mpc"
      },
      "execution_count": 23,
      "outputs": []
    },
    {
      "cell_type": "code",
      "source": [
        "print(round(grid_search_duration.seconds/60,1), \"minutes\")"
      ],
      "metadata": {
        "colab": {
          "base_uri": "https://localhost:8080/"
        },
        "id": "HJmFDGHNB5qj",
        "outputId": "c96dfbeb-cd95-4c1c-ab0f-9d69187adc63"
      },
      "execution_count": 24,
      "outputs": [
        {
          "output_type": "stream",
          "name": "stdout",
          "text": [
            "13.5 minutes\n"
          ]
        }
      ]
    },
    {
      "cell_type": "code",
      "source": [
        "round(-rand_xgb_reg.best_score_,4)"
      ],
      "metadata": {
        "id": "U8snl8YyVowW",
        "colab": {
          "base_uri": "https://localhost:8080/"
        },
        "outputId": "44e127ee-99e1-444d-95c0-c138c72137ef"
      },
      "execution_count": 25,
      "outputs": [
        {
          "output_type": "execute_result",
          "data": {
            "text/plain": [
              "8.4268"
            ]
          },
          "metadata": {},
          "execution_count": 25
        }
      ]
    },
    {
      "cell_type": "code",
      "source": [
        "def best_hyperparameters(hyperparameter_grid):\n",
        "    # this function prints the values from the hyperparameter search, for which hyperparameter_grid has more than one option\n",
        "    var_hp = [x for x in hyperparameter_grid if len(hyperparameter_grid[x]) > 1]\n",
        "    best_hyperparameters = {}\n",
        "    for elem in rand_xgb_reg.best_params_:\n",
        "        if elem in var_hp:\n",
        "            best_hyperparameters[elem] = rand_xgb_reg.best_params_[elem]\n",
        "    return best_hyperparameters"
      ],
      "metadata": {
        "id": "YTDpup1FS-mK"
      },
      "execution_count": 26,
      "outputs": []
    },
    {
      "cell_type": "code",
      "source": [
        "best_hyperparameters(hyperparameter_grid)"
      ],
      "metadata": {
        "id": "_lQriTzKTCKf",
        "colab": {
          "base_uri": "https://localhost:8080/"
        },
        "outputId": "614b8dd5-8e30-4693-9730-350119e02305"
      },
      "execution_count": 27,
      "outputs": [
        {
          "output_type": "execute_result",
          "data": {
            "text/plain": [
              "{'colsample_bytree': 0.2,\n",
              " 'learning_rate': 0.155,\n",
              " 'max_depth': 12,\n",
              " 'reg_lambda': 1}"
            ]
          },
          "metadata": {},
          "execution_count": 27
        }
      ]
    },
    {
      "cell_type": "code",
      "source": [
        "new_xgb_reg = xgb.XGBRegressor(colsample_bytree = rand_xgb_reg.best_params_['colsample_bytree'],\n",
        "                               gamma = rand_xgb_reg.best_params_['gamma'],\n",
        "                               learning_rate = rand_xgb_reg.best_params_['learning_rate'],\n",
        "                               max_depth = rand_xgb_reg.best_params_['max_depth'],\n",
        "                               min_child_weight = rand_xgb_reg.best_params_['min_child_weight'],\n",
        "                               n_estimators = rand_xgb_reg.best_params_['n_estimators'],\n",
        "                               reg_alpha = rand_xgb_reg.best_params_['reg_alpha'],\n",
        "                               reg_lambda = rand_xgb_reg.best_params_['reg_lambda'],\n",
        "                               subsample = rand_xgb_reg.best_params_['subsample'])"
      ],
      "metadata": {
        "id": "HT0fWovLZwy3"
      },
      "execution_count": 28,
      "outputs": []
    },
    {
      "cell_type": "code",
      "source": [
        "new_xgb_reg.fit(X_train, Y_train)"
      ],
      "metadata": {
        "id": "yL5T5_HPaaUI",
        "colab": {
          "base_uri": "https://localhost:8080/"
        },
        "outputId": "8aefecb6-cef6-4631-c98c-ef3a1e8bf881"
      },
      "execution_count": 29,
      "outputs": [
        {
          "output_type": "execute_result",
          "data": {
            "text/plain": [
              "XGBRegressor(base_score=0.5, booster='gbtree', callbacks=None,\n",
              "             colsample_bylevel=1, colsample_bynode=1, colsample_bytree=0.2,\n",
              "             early_stopping_rounds=None, enable_categorical=False,\n",
              "             eval_metric=None, gamma=10, gpu_id=-1, grow_policy='depthwise',\n",
              "             importance_type=None, interaction_constraints='',\n",
              "             learning_rate=0.155, max_bin=256, max_cat_to_onehot=4,\n",
              "             max_delta_step=0, max_depth=12, max_leaves=0, min_child_weight=1,\n",
              "             missing=nan, monotone_constraints='()', n_estimators=50, n_jobs=0,\n",
              "             num_parallel_tree=1, predictor='auto', random_state=0, reg_alpha=0,\n",
              "             reg_lambda=1, ...)"
            ]
          },
          "metadata": {},
          "execution_count": 29
        }
      ]
    },
    {
      "cell_type": "code",
      "source": [
        "predictions = new_xgb_reg.predict(X_test)\n",
        "error = rmse(predictions, Y_test)\n",
        "round(error,4)"
      ],
      "metadata": {
        "id": "e54bvQegbEu_",
        "colab": {
          "base_uri": "https://localhost:8080/"
        },
        "outputId": "8536d5b5-9064-42fa-cd6a-2cfa97012ee8"
      },
      "execution_count": 30,
      "outputs": [
        {
          "output_type": "execute_result",
          "data": {
            "text/plain": [
              "7.9695"
            ]
          },
          "metadata": {},
          "execution_count": 30
        }
      ]
    },
    {
      "cell_type": "code",
      "source": [
        "### RANDOMIZED SET RMSE ###"
      ],
      "metadata": {
        "id": "yDhHvcWKgTcy"
      },
      "execution_count": 31,
      "outputs": []
    },
    {
      "cell_type": "code",
      "source": [
        "# we create a random distribution of data, to compare with the result of the model"
      ],
      "metadata": {
        "id": "D93e__0O5owF"
      },
      "execution_count": 32,
      "outputs": []
    },
    {
      "cell_type": "code",
      "source": [
        "size = Y_test.shape[0]\n",
        "min = Y_test.min()\n",
        "max = Y_test.max()\n",
        "random_samples = np.random.uniform(low = min, high = max, size=(size,))"
      ],
      "metadata": {
        "id": "ob-QUS3ngnQp"
      },
      "execution_count": 33,
      "outputs": []
    },
    {
      "cell_type": "code",
      "source": [
        "random_samples_error = rmse(random_samples,Y_test)\n",
        "round(random_samples_error,2)"
      ],
      "metadata": {
        "colab": {
          "base_uri": "https://localhost:8080/"
        },
        "id": "CuOqGRsthVml",
        "outputId": "d561ddc3-ba08-4b2b-b30f-8a58b5d1d2eb"
      },
      "execution_count": 34,
      "outputs": [
        {
          "output_type": "execute_result",
          "data": {
            "text/plain": [
              "20.66"
            ]
          },
          "metadata": {},
          "execution_count": 34
        }
      ]
    }
  ]
}